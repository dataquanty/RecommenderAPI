{
 "cells": [
  {
   "cell_type": "code",
   "execution_count": 12,
   "metadata": {
    "collapsed": true
   },
   "outputs": [],
   "source": [
    "import requests"
   ]
  },
  {
   "cell_type": "code",
   "execution_count": 13,
   "metadata": {},
   "outputs": [
    {
     "data": {
      "text/plain": [
       "{u'user': {u'age': 35,\n",
       "  u'gender': u'M',\n",
       "  u'occupation': 15,\n",
       "  u'userId': 6044,\n",
       "  u'zipcode': 12300}}"
      ]
     },
     "execution_count": 13,
     "metadata": {},
     "output_type": "execute_result"
    }
   ],
   "source": [
    "userjson = {\"gender\":\"M\",\"age\":35,\"occupation\":15,\"zipcode\":12300}\n",
    "res = requests.post('http://localhost:5000/reco/adduser',json=userjson)\n",
    "res.json()"
   ]
  },
  {
   "cell_type": "code",
   "execution_count": 19,
   "metadata": {},
   "outputs": [
    {
     "data": {
      "text/plain": [
       "{u'rated': {u'itemId': 681, u'rating': 1, u'userId': 6044}}"
      ]
     },
     "execution_count": 19,
     "metadata": {},
     "output_type": "execute_result"
    }
   ],
   "source": [
    "ratingjson = {\"userId\":6044,\"itemId\":681,\"rating\":1}\n",
    "res = requests.post('http://localhost:5000/reco/adddata',json=ratingjson)\n",
    "res.json()"
   ]
  },
  {
   "cell_type": "code",
   "execution_count": 20,
   "metadata": {},
   "outputs": [
    {
     "data": {
      "text/plain": [
       "{u'0': {u'Genres': u'Crime',\n",
       "  u'MovieID': 2580.0,\n",
       "  u'Title': u'Go (1999)',\n",
       "  u'UserID': 6044.0,\n",
       "  u'rating': None,\n",
       "  u'ratingRec': 3.9219179068},\n",
       " u'1': {u'Genres': u'Crime',\n",
       "  u'MovieID': 2511.0,\n",
       "  u'Title': u'Long Goodbye, The (1973)',\n",
       "  u'UserID': 6044.0,\n",
       "  u'rating': None,\n",
       "  u'ratingRec': 3.902343364},\n",
       " u'10': {u'Genres': u'Drama',\n",
       "  u'MovieID': 3408.0,\n",
       "  u'Title': u'Erin Brockovich (2000)',\n",
       "  u'UserID': 6044.0,\n",
       "  u'rating': None,\n",
       "  u'ratingRec': 3.5320612627},\n",
       " u'11': {u'Genres': u'Drama',\n",
       "  u'MovieID': 1139.0,\n",
       "  u'Title': u'Everything Relative (1996)',\n",
       "  u'UserID': 6044.0,\n",
       "  u'rating': None,\n",
       "  u'ratingRec': 3.5259248415},\n",
       " u'12': {u'Genres': u'Drama',\n",
       "  u'MovieID': 3148.0,\n",
       "  u'Title': u'Cider House Rules, The (1999)',\n",
       "  u'UserID': 6044.0,\n",
       "  u'rating': None,\n",
       "  u'ratingRec': 3.5226420801},\n",
       " u'13': {u'Genres': u'Drama',\n",
       "  u'MovieID': 3568.0,\n",
       "  u'Title': u'Smiling Fish and Goat on Fire (1999)',\n",
       "  u'UserID': 6044.0,\n",
       "  u'rating': None,\n",
       "  u'ratingRec': 3.5204401327},\n",
       " u'14': {u'Genres': u'Drama',\n",
       "  u'MovieID': 3570.0,\n",
       "  u'Title': u'Last September, The (1999)',\n",
       "  u'UserID': 6044.0,\n",
       "  u'rating': None,\n",
       "  u'ratingRec': 3.5204401327},\n",
       " u'15': {u'Genres': u'Drama',\n",
       "  u'MovieID': 1519.0,\n",
       "  u'Title': u'Broken English (1996)',\n",
       "  u'UserID': 6044.0,\n",
       "  u'rating': None,\n",
       "  u'ratingRec': 3.5200832015},\n",
       " u'16': {u'Genres': u'Drama',\n",
       "  u'MovieID': 2304.0,\n",
       "  u'Title': u'Love Is the Devil (1998)',\n",
       "  u'UserID': 6044.0,\n",
       "  u'rating': None,\n",
       "  u'ratingRec': 3.5171896574},\n",
       " u'17': {u'Genres': u'Drama',\n",
       "  u'MovieID': 2611.0,\n",
       "  u'Title': u'Winslow Boy, The (1998)',\n",
       "  u'UserID': 6044.0,\n",
       "  u'rating': None,\n",
       "  u'ratingRec': 3.5123510202},\n",
       " u'18': {u'Genres': u'Drama',\n",
       "  u'MovieID': 1095.0,\n",
       "  u'Title': u'Glengarry Glen Ross (1992)',\n",
       "  u'UserID': 6044.0,\n",
       "  u'rating': None,\n",
       "  u'ratingRec': 3.5120230026},\n",
       " u'19': {u'Genres': u'Horror',\n",
       "  u'MovieID': 2637.0,\n",
       "  u'Title': u\"Mummy's Hand, The (1940)\",\n",
       "  u'UserID': 6044.0,\n",
       "  u'rating': None,\n",
       "  u'ratingRec': 3.510366566},\n",
       " u'2': {u'Genres': u'Drama',\n",
       "  u'MovieID': 3160.0,\n",
       "  u'Title': u'Magnolia (1999)',\n",
       "  u'UserID': 6044.0,\n",
       "  u'rating': None,\n",
       "  u'ratingRec': 3.7923878432},\n",
       " u'3': {u'Genres': u'Crime',\n",
       "  u'MovieID': 3656.0,\n",
       "  u'Title': u'Lured (1947)',\n",
       "  u'UserID': 6044.0,\n",
       "  u'rating': None,\n",
       "  u'ratingRec': 3.7468240613},\n",
       " u'4': {u'Genres': u'Crime',\n",
       "  u'MovieID': 2281.0,\n",
       "  u'Title': u'Monument Ave. (1998)',\n",
       "  u'UserID': 6044.0,\n",
       "  u'rating': None,\n",
       "  u'ratingRec': 3.6684292391},\n",
       " u'5': {u'Genres': u'Crime|Drama',\n",
       "  u'MovieID': 3328.0,\n",
       "  u'Title': u'Ghost Dog: The Way of the Samurai (1999)',\n",
       "  u'UserID': 6044.0,\n",
       "  u'rating': None,\n",
       "  u'ratingRec': 3.6286379138},\n",
       " u'6': {u'Genres': u'Drama',\n",
       "  u'MovieID': 2966.0,\n",
       "  u'Title': u'Straight Story, The (1999)',\n",
       "  u'UserID': 6044.0,\n",
       "  u'rating': None,\n",
       "  u'ratingRec': 3.6064744761},\n",
       " u'7': {u'Genres': u'Drama',\n",
       "  u'MovieID': 1161.0,\n",
       "  u'Title': u'Tin Drum, The (Blechtrommel, Die) (1979)',\n",
       "  u'UserID': 6044.0,\n",
       "  u'rating': None,\n",
       "  u'ratingRec': 3.5869497473},\n",
       " u'8': {u'Genres': u'Drama',\n",
       "  u'MovieID': 1509.0,\n",
       "  u'Title': u'All Over Me (1997)',\n",
       "  u'UserID': 6044.0,\n",
       "  u'rating': None,\n",
       "  u'ratingRec': 3.555105803},\n",
       " u'9': {u'Genres': u'Drama',\n",
       "  u'MovieID': 2673.0,\n",
       "  u'Title': u'Eternity and a Day (Mia eoniotita ke mia mera ) (1998)',\n",
       "  u'UserID': 6044.0,\n",
       "  u'rating': None,\n",
       "  u'ratingRec': 3.5413235691}}"
      ]
     },
     "execution_count": 20,
     "metadata": {},
     "output_type": "execute_result"
    }
   ],
   "source": [
    "res = requests.get('http://localhost:5000/reco/pred/6044')\n",
    "res.json()"
   ]
  },
  {
   "cell_type": "code",
   "execution_count": null,
   "metadata": {
    "collapsed": true
   },
   "outputs": [],
   "source": []
  }
 ],
 "metadata": {
  "kernelspec": {
   "display_name": "Python 2",
   "language": "python",
   "name": "python2"
  },
  "language_info": {
   "codemirror_mode": {
    "name": "ipython",
    "version": 2
   },
   "file_extension": ".py",
   "mimetype": "text/x-python",
   "name": "python",
   "nbconvert_exporter": "python",
   "pygments_lexer": "ipython2",
   "version": "2.7.13"
  }
 },
 "nbformat": 4,
 "nbformat_minor": 2
}
